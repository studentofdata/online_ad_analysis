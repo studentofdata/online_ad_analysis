{
 "cells": [
  {
   "cell_type": "code",
   "execution_count": null,
   "metadata": {
    "collapsed": true
   },
   "outputs": [],
   "source": [
    "%matplotlib inline"
   ]
  },
  {
   "cell_type": "code",
   "execution_count": null,
   "metadata": {
    "collapsed": false
   },
   "outputs": [],
   "source": [
    "%%html\n",
    "<style>\n",
    "div.input {\n",
    "    display:none;\n",
    "}\n",
    "</style>"
   ]
  },
  {
   "cell_type": "code",
   "execution_count": 132,
   "metadata": {
    "collapsed": true
   },
   "outputs": [],
   "source": [
    "import warnings\n",
    "import os\n",
    "import pandas as pd\n",
    "import numpy as np\n",
    "from datetime import timedelta\n",
    "from ggplot import *\n",
    "#import ggplot\n",
    "\n",
    "from plotly.graph_objs import Bar, Scatter, Figure, Layout\n",
    "\n",
    "import plotly.plotly as py\n",
    "import plotly.graph_objs as go\n",
    "\n",
    "\n",
    "warnings.filterwarnings('ignore')\n",
    "\n",
    "##############################################################\n",
    "# Let's load the data\n",
    "\n",
    "# All Invoicing data (2013-01-01 - 2015-01-01) DTN Destination Travel Network\n",
    "data = pd.read_csv('onsite_ad_analysis/all_advertisers_v2.csv')\n",
    "# All bookingcom data (2015-01-01 - 2016-08-31) Bookings from our site\n",
    "files = os.listdir('onsite_ad_analysis')\n",
    "booking_files = [f for f in files if 'booking' in f]\n",
    "booking_frames = []\n",
    "for f in booking_files:\n",
    "    directory = 'onsite_ad_analysis'\n",
    "    path = os.path.join(directory, f) \n",
    "    temp = pd.read_csv(path)\n",
    "    booking_frames.append(temp)\n",
    "\n",
    "booking_data = pd.concat(booking_frames)\n",
    "\n",
    "\n",
    "# Ad Performance data \n",
    "ad_data = pd.read_csv('onsite_ad_analysis/ad_performance.csv')\n",
    "\n",
    "\n",
    "##############################################################\n",
    "# Let's format the DTN data\n",
    "\n",
    "data = data.rename(\n",
    "        columns={\n",
    "        \"Desc\" : \"advertiser_name\"\n",
    "    })\n",
    "\n",
    "# Format Dates\n",
    "data['Date'] = pd.to_datetime(data['Month-Year'])\n",
    "data['Date'] = data['Date']\n",
    "\n",
    "\n",
    "\n",
    "# Clean Descriptions (member names)\n",
    "data['advertiser_name'] = data['advertiser_name'].str.replace(' - Monterey','')\n",
    "\n",
    "data['advertiser_name'] = data['advertiser_name'].str.replace(' - April','')\n",
    "data['advertiser_name'] = data['advertiser_name'].str.replace(' - May','')\n",
    "data['advertiser_name'] = data['advertiser_name'].str.replace(' - June','')\n",
    "data['advertiser_name'] = data['advertiser_name'].str.replace(' - July','')\n",
    "data['advertiser_name'] = data['advertiser_name'].str.replace(' - August','')\n",
    "data['advertiser_name'] = data['advertiser_name'].str.replace(' - September','')\n",
    "data['advertiser_name'] = data['advertiser_name'].str.replace(' - October','')\n",
    "data['advertiser_name'] = data['advertiser_name'].str.replace(' - November','')\n",
    "data['advertiser_name'] = data['advertiser_name'].str.replace(' - December','')\n",
    "data['advertiser_name'] = data['advertiser_name'].str.replace(' - January','')\n",
    "data['advertiser_name'] = data['advertiser_name'].str.replace(' - February','')\n",
    "data['advertiser_name'] = data['advertiser_name'].str.replace(' - March','')\n",
    "data['advertiser_name'] = data['advertiser_name'].str.replace(' -April','')\n",
    "data['advertiser_name'] = data['advertiser_name'].str.replace(' -May','')\n",
    "data['advertiser_name'] = data['advertiser_name'].str.replace(' -June','')\n",
    "data['advertiser_name'] = data['advertiser_name'].str.replace(' -July','')\n",
    "data['advertiser_name'] = data['advertiser_name'].str.replace(' -August','')\n",
    "data['advertiser_name'] = data['advertiser_name'].str.replace(' -September','')\n",
    "data['advertiser_name'] = data['advertiser_name'].str.replace(' -October','')\n",
    "data['advertiser_name'] = data['advertiser_name'].str.replace(' -November','')\n",
    "data['advertiser_name'] = data['advertiser_name'].str.replace(' -December','')\n",
    "data['advertiser_name'] = data['advertiser_name'].str.replace(' -January','')\n",
    "data['advertiser_name'] = data['advertiser_name'].str.replace(' -February','')\n",
    "data['advertiser_name'] = data['advertiser_name'].str.replace(' -March','')\n",
    "\n",
    "# Format new column for month-year. Readability\n",
    "\n",
    "data['Month-Year'] = data['Date'].apply(lambda x: str(x.month) + \"-\" + str(x.year))\n",
    "data['Month'] = data['Date'].apply(lambda x: x.month)\n",
    "data['Year']  = data['Date'].apply(lambda x: x.year)\n",
    "data['Amount'] = data['Amount'].str.replace(' ', '')\n",
    "data['Amount'] = data['Amount'].str.replace(',', '')\n",
    "data['Amount'] = data['Amount'].apply(float)\n",
    "\n",
    "\n",
    "\n",
    "##############################################################\n",
    "# Let's format the Booking data\n",
    "\n",
    "#Rename Columns\n",
    "booking_data = booking_data.rename(\n",
    "        columns={\n",
    "        \"book nr.\" : \"book_nr\",\n",
    "        \"booked\"  : \"booked\",\n",
    "        \"arrival\" : \"arrival\",\n",
    "        \"departure\" : \"departure\",\n",
    "        \"comission_eur\" : \"comission_eur\",\n",
    "        \"perc\" : \"fee_eur\",\n",
    "        \"total transaction value ( EUR )\" : \"total_trans_value_eur\",\n",
    "        \"slip nr.\" : \"slip_nr\",\n",
    "        \"affiliate id\" : \"affiliate_id\",\n",
    "        \"hotel name\" : \"hotel_name\",\n",
    "        \"accomodation type\" : \"accomodation_type\",\n",
    "        \"hotel city\" : \"hotel_city\",\n",
    "        \"hotel ufi\" : \"hotel_ufi\"\n",
    "    })\n",
    "\n",
    "\n",
    "#Subset Columns needed\n",
    "booking_data_v2 = booking_data[['booked',\n",
    "                                'arrival',\n",
    "                                'departure',\n",
    "                                'total_trans_value_eur',\n",
    "                                'hotel_name',\n",
    "                                'hotel_city',\n",
    "                                'accomodation_type']]\n",
    "\n",
    "\n",
    "booking_data_v2['booked'] = pd.to_datetime(booking_data_v2['booked'])\n",
    "booking_data_v2['arrival'] = pd.to_datetime(booking_data_v2['arrival'])\n",
    "booking_data_v2['departure'] = pd.to_datetime(booking_data_v2['departure'])\n",
    "\n",
    "\n",
    "data_v1 = data[data['Date'] < '2016-08-31']\n",
    "data_v1 = data_v1[['advertiser_name','Amount','Month-Year','Month','Year','Date']]\n",
    "\n",
    "\n",
    "##############################################################\n",
    "# Let's transform the DTN data for visualization & modeling\n",
    "\n",
    "## Top Spenders\n",
    "ts = data_v1.groupby(['advertiser_name','Year'])\n",
    "ts = ts['Amount'].sum()\n",
    "ts = ts.reset_index()\n",
    "ts = ts.sort(['Year','Amount'], ascending = False)\n",
    "grouped = ts.groupby('Year')['Amount'].nlargest(3)\n",
    "ts = ts.reset_index()\n",
    "grouped_v2 = grouped.reset_index()\n",
    "index = grouped_v2['level_1']\n",
    "ts_v2 = ts[ts['index'].isin(index)]\n",
    "ts_v3 = ts_v2[['advertiser_name', 'Year', 'Amount']]\n",
    "ts_v3 = ts_v3.rename(columns={'advertiser_name': 'Member', 'Amount':'Spent'})\n",
    "ts_v3\n",
    "\n",
    "## Average Participating Member Contract Length Over Time\n",
    "ct = data_v1.groupby(['Year'])\n",
    "ct = ct['Month'].aggregate(len)\n",
    "ct = ct.reset_index()\n",
    "ct_v2 = ct.groupby(['Year'])['Month'].aggregate(np.mean)\n",
    "ct_v2 = ct_v2.reset_index()\n",
    "ct_v2['Year'] = ct_v2['Year'].apply(str)\n",
    "\n",
    "## Revenue by Year\n",
    "yr_revenue = data_v1.groupby(['Year'])['Amount'].aggregate(sum)\n",
    "yr_revenue = yr_revenue.reset_index()\n",
    "yr_revenue['Year'] = pd.to_datetime(yr_revenue['Year'], format = '%Y')\n",
    "#yr_revenue['Year'] = yr_revenue['Year'].apply(lambda x: x.year)\n",
    "\n",
    "\n",
    "# Revenue Over Month\n",
    "revenue = data_v1.groupby(['Month-Year'])#.aggregate(sum)\n",
    "revenue = revenue[['Amount']].aggregate(sum)\n",
    "revenue = revenue.reset_index()\n",
    "revenue['Month-Year'] = pd.to_datetime(revenue['Month-Year'])\n",
    "revenue = revenue.sort('Month-Year')\n",
    "\n",
    "# So far we haven't touched the Gross Amounts. We know need to account for the fact that the \n",
    "# CVB only gets 40% of the Gross Amount. \n",
    "revenue['MCCVB Amount'] = revenue['Amount']*.4\n",
    "\n",
    "#Cumulative Revenue\n",
    "revenue['Cumulative Revenue'] = revenue['Amount'].cumsum()\n",
    "revenue['Cumulative MCCVB Revenue'] = revenue['MCCVB Amount'].cumsum()\n",
    "revenue['Date'] = pd.to_datetime(revenue['Month-Year'])\n",
    "\n",
    "\n",
    "# Revenue by year\n",
    "\n",
    "unique_data = data_v1.drop_duplicates('advertiser_name')\n",
    "# Unique Participants over Time\n",
    "users = data_v1.groupby(['Date','advertiser_name']).aggregate(len)\n",
    "users = users.reset_index()\n",
    "# Aggregate Monthly\n",
    "users_v2 = users.groupby(['Date']).aggregate(len)\n",
    "users_v2 = users_v2.reset_index()\n",
    "users_v2 = users_v2[['Date','Amount']]\n",
    "users_v2 = users_v2.rename(columns={\"Amount\":\"Unique Members\"})\n",
    "users_v2['Date'] = pd.to_datetime(users_v2['Date'])\n",
    "users_v2['Month-Year'] = users_v2['Date'].apply(lambda x: str(x.month) + \"-\" + str(x.year))\n",
    "users_v2['Month-Year'] = pd.to_datetime(users_v2['Month-Year'])\n",
    "# Aggregate Yearly\n",
    "users_year = unique_data.groupby(['advertiser_name','Year']).aggregate(len)\n",
    "users_year = users_year.reset_index()\n",
    "users_year_v2 = users_year.groupby(['Year']).aggregate(sum)\n",
    "users_year_v2 = users_year_v2.reset_index()\n",
    "users_year_v2 = users_year_v2.rename(columns={\"Amount\":\"Unique Members\"})\n",
    "\n",
    "\n",
    "# Revenue and Participants over Time\n",
    "full_u_r = pd.merge(users_v2, revenue, on = ['Date','Month-Year'])\n",
    "full_u_r['Cost-Per-Member'] = full_u_r['Amount']/full_u_r['Unique Members']\n",
    "\n",
    "# Revenue and Participants Yearly\n",
    "full_u_r_v2 = full_u_r\n",
    "full_u_r_v2['Date'] = pd.to_datetime(full_u_r_v2['Date'])\n",
    "full_u_r_v2['Year'] = users_v2['Date'].apply(lambda x: str(x.year))\n",
    "full_u_r_v3 = full_u_r_v2.groupby(['Year']).aggregate(sum)\n",
    "full_u_r_v3 = full_u_r_v3.reset_index()\n",
    "\n",
    "\n",
    "# Retention Rates, Who stayed and who bailed\n",
    "\n",
    "\n",
    "\n",
    "# Loyalty - Avg Contract Lengths"
   ]
  },
  {
   "cell_type": "markdown",
   "metadata": {},
   "source": [
    "# Introduction\n",
    "\n",
    "\n",
    "The Monterey County Convention & Visitors Bureau has a number of benefits for members. In early 2013 they expanded their offering, in addition to basic online advertising included with membership, the Monterey County Convention & Visitors Bureau (MCCVB) provides a media kit for supplemental online advertising. This kit offers a number of solutions aimed at different types of exposure. All of these solutions cost less than \\$300 per month and start at \\$50 per month.\n",
    "\n",
    "Seemonterey.com is a substantial source of online traffic and therefore impressions and engagement, averaging 1.6 million new users every year and boasting over 400,000 pageviews per month. The quality of the traffic is also worth noting with online visitors staying onsite longer and consuming our member's listings which have been viewed 250,000 times year to date. In addition to our impressions, our member websites have received 100,000 click throughs from seemonterey.com year to date.\n",
    "\n",
    "This advertisement, while beneficial to our members, is being re-considered objectively in terms of its monetization. The following briefly summarizes the current state of our relationship with Destination Travel Network, our members usage of this program, and what other DMOs are doing. Finally we summarize our thoughts in terms of three stakeholder points of view.\n",
    "\n",
    "\n",
    "## Context - Revenue\n",
    "\n",
    "Destination Travel Network (DTN) is our partner who provides the ability and support for members to advertise on the website. Since the inception of the media kit and the partnership with DTN through August of 2016, the program has brought in approximately \\$104,692 directly from members. This represents the total amount spent by members for additional advertising online. The MCCVB has brought in \\$41,876 with the rest allocated towards DTN. The current monthly average net revenue for the MCCVB for the last 3 months is \\$3,969 with 21 members participating.\n",
    "\n",
    "Shown below is our yearly revenue, please keep in mind this analysis is done through August 2016. As you can see the program has been growing aggressively in the first two years and appears to be leveling off as growth in 2015 will be less than the preceding year.\n"
   ]
  },
  {
   "cell_type": "code",
   "execution_count": 133,
   "metadata": {
    "collapsed": false
   },
   "outputs": [
    {
     "data": {
      "image/png": "[encoded data removed]",
      "text/plain": [
       "<matplotlib.figure.Figure at 0x1412b518>"
      ]
     },
     "metadata": {},
     "output_type": "display_data"
    },
    {
     "data": {
      "text/plain": [
       "<ggplot: (21035110)>"
      ]
     },
     "execution_count": 133,
     "metadata": {},
     "output_type": "execute_result"
    }
   ],
   "source": [
    "#INSERT YEARLY BAR HERE #\n",
    "rev_yr = ggplot(aes(x=\"Year\",weight=\"Amount\"), data = yr_revenue)\n",
    "rev_yr = rev_yr + geom_bar() + scale_x_discrete(labels = ['2013','2014','2015','2016'])\n",
    "rev_yr = rev_yr + ggtitle(\"Annual Gross Revenue\")\n",
    "rev_yr\n",
    "\n",
    "#ggsave(rev_yr, filename = 'revenue_per_year.png')"
   ]
  },
  {
   "cell_type": "markdown",
   "metadata": {},
   "source": [
    "Shown below is a graph of the number of participating members overtime. Strong growth amongst unique member participation is an indicator for program success, coupled with competitive click through rates, this becomes an attractive advertising option for our members.\n"
   ]
  },
  {
   "cell_type": "code",
   "execution_count": 134,
   "metadata": {
    "collapsed": false
   },
   "outputs": [
    {
     "data": {
      "image/png": "[encoded data removed]",
      "text/plain": [
       "<matplotlib.figure.Figure at 0x16730438>"
      ]
     },
     "metadata": {},
     "output_type": "display_data"
    },
    {
     "data": {
      "text/plain": [
       "<ggplot: (23539860)>"
      ]
     },
     "execution_count": 134,
     "metadata": {},
     "output_type": "execute_result"
    }
   ],
   "source": [
    "#MEMBERS OVER TIME HERE#\n",
    "rev_um = ggplot(aes(x='Month-Year', y = 'Unique Members'), data = full_u_r)\n",
    "rev_um = rev_um + geom_line() + ggtitle(\"Participation\")\n",
    "rev_um\n"
   ]
  },
  {
   "cell_type": "markdown",
   "metadata": {},
   "source": [
    "Our top three spenders for three years of operation are shown below. You can see overtime how the participating members are becoming some of the larger members in our group. These types of advertising options are going to be utilized more heavily by members who have larger marketing budgets. The offerings which cost the most and have the best click through rates are being consumed by the larger members. This may go without saying, but is still evident in the data."
   ]
  },
  {
   "cell_type": "code",
   "execution_count": 135,
   "metadata": {
    "collapsed": false
   },
   "outputs": [
    {
     "name": "stdout",
     "output_type": "stream",
     "text": [
      "\n",
      "Top 3 Spenders Per Year:\n"
     ]
    },
    {
     "data": {
      "text/html": [
       "<div>\n",
       "<table border=\"1\" class=\"dataframe\">\n",
       "  <thead>\n",
       "    <tr style=\"text-align: right;\">\n",
       "      <th></th>\n",
       "      <th>Member</th>\n",
       "      <th>Year</th>\n",
       "      <th>Spent</th>\n",
       "    </tr>\n",
       "  </thead>\n",
       "  <tbody>\n",
       "    <tr>\n",
       "      <th>0</th>\n",
       "      <td>Portola Hotel &amp; Spa</td>\n",
       "      <td>2016</td>\n",
       "      <td>5600.0</td>\n",
       "    </tr>\n",
       "    <tr>\n",
       "      <th>1</th>\n",
       "      <td>Monterey Zoo (Previously Wild Things)</td>\n",
       "      <td>2016</td>\n",
       "      <td>3300.0</td>\n",
       "    </tr>\n",
       "    <tr>\n",
       "      <th>2</th>\n",
       "      <td>Monterey Peninsula Inn</td>\n",
       "      <td>2016</td>\n",
       "      <td>2700.0</td>\n",
       "    </tr>\n",
       "    <tr>\n",
       "      <th>32</th>\n",
       "      <td>Carmel Mission Inn</td>\n",
       "      <td>2015</td>\n",
       "      <td>6600.0</td>\n",
       "    </tr>\n",
       "    <tr>\n",
       "      <th>33</th>\n",
       "      <td>Monterey Zoo (Previously Wild Things)</td>\n",
       "      <td>2015</td>\n",
       "      <td>3300.0</td>\n",
       "    </tr>\n",
       "    <tr>\n",
       "      <th>34</th>\n",
       "      <td>Hilton Garden Inn</td>\n",
       "      <td>2015</td>\n",
       "      <td>2250.0</td>\n",
       "    </tr>\n",
       "    <tr>\n",
       "      <th>58</th>\n",
       "      <td>Downtown Dining</td>\n",
       "      <td>2014</td>\n",
       "      <td>2840.0</td>\n",
       "    </tr>\n",
       "    <tr>\n",
       "      <th>59</th>\n",
       "      <td>Flaherty's Oyster Bar &amp; Seafood Grill</td>\n",
       "      <td>2014</td>\n",
       "      <td>2750.0</td>\n",
       "    </tr>\n",
       "    <tr>\n",
       "      <th>60</th>\n",
       "      <td>Embassy Suites Monterey Bay-Seaside</td>\n",
       "      <td>2014</td>\n",
       "      <td>2280.0</td>\n",
       "    </tr>\n",
       "    <tr>\n",
       "      <th>75</th>\n",
       "      <td>Taste Morgan</td>\n",
       "      <td>2013</td>\n",
       "      <td>3200.0</td>\n",
       "    </tr>\n",
       "    <tr>\n",
       "      <th>76</th>\n",
       "      <td>Embassy Suites Monterey Bay-Seaside</td>\n",
       "      <td>2013</td>\n",
       "      <td>2280.0</td>\n",
       "    </tr>\n",
       "    <tr>\n",
       "      <th>77</th>\n",
       "      <td>Haute Enchilada Cafe and Galleries</td>\n",
       "      <td>2013</td>\n",
       "      <td>1755.0</td>\n",
       "    </tr>\n",
       "  </tbody>\n",
       "</table>\n",
       "</div>"
      ],
      "text/plain": [
       "                                   Member  Year   Spent\n",
       "0                     Portola Hotel & Spa  2016  5600.0\n",
       "1   Monterey Zoo (Previously Wild Things)  2016  3300.0\n",
       "2                  Monterey Peninsula Inn  2016  2700.0\n",
       "32                     Carmel Mission Inn  2015  6600.0\n",
       "33  Monterey Zoo (Previously Wild Things)  2015  3300.0\n",
       "34                      Hilton Garden Inn  2015  2250.0\n",
       "58                        Downtown Dining  2014  2840.0\n",
       "59  Flaherty's Oyster Bar & Seafood Grill  2014  2750.0\n",
       "60    Embassy Suites Monterey Bay-Seaside  2014  2280.0\n",
       "75                           Taste Morgan  2013  3200.0\n",
       "76    Embassy Suites Monterey Bay-Seaside  2013  2280.0\n",
       "77     Haute Enchilada Cafe and Galleries  2013  1755.0"
      ]
     },
     "execution_count": 135,
     "metadata": {},
     "output_type": "execute_result"
    }
   ],
   "source": [
    "#INSERT TOP SPENDERS HERE#\n",
    "# Table of Top 3 Spenders Per Year\n",
    "print \"\\nTop 3 Spenders Per Year:\"\n",
    "ts_v3"
   ]
  },
  {
   "cell_type": "markdown",
   "metadata": {
    "collapsed": true
   },
   "source": [
    "The number of contract months appears to be leveling off after initial growth, even though this year has yet to be concluded, it is unlikely we will see the 40% growth we experienced between 2014-2015. "
   ]
  },
  {
   "cell_type": "code",
   "execution_count": 136,
   "metadata": {
    "collapsed": false
   },
   "outputs": [
    {
     "data": {
      "image/png": "[encoded data removed]",
      "text/plain": [
       "<matplotlib.figure.Figure at 0x16a4c240>"
      ]
     },
     "metadata": {},
     "output_type": "display_data"
    },
    {
     "data": {
      "text/plain": [
       "<ggplot: (23743615)>"
      ]
     },
     "execution_count": 136,
     "metadata": {},
     "output_type": "execute_result"
    }
   ],
   "source": [
    "#INSERT CONTRACT MONTHS HERE#\n",
    "cm_py = ggplot(aes(x = 'Year', weight='Month'), data = ct_v2)\n",
    "cm_py = cm_py + geom_bar() + ggtitle(\"Number of Contract Months\")\n",
    "cm_py"
   ]
  },
  {
   "cell_type": "markdown",
   "metadata": {},
   "source": [
    "## Context - Ad Performance\n",
    "\n",
    "In terms of advertising performance, in 2015 21.6 million impressions were delivered across 7 different methods of exposure. Alongside 57,000 clicks means the click through rate for all mediums is .265%. Referring to the table below, our homepage sponsor and featured listing offerings had stronger click through rates, more than quadruple the average cross all mediums. Note the number of impressions is lower compared to text links. The text links are the cheapest form of advertisement and have the weakest CTR due to the sheer number of impressions delivered however, in terms of total clicks it is the second best medium to advertise with. \n"
   ]
  },
  {
   "cell_type": "code",
   "execution_count": 137,
   "metadata": {
    "collapsed": false
   },
   "outputs": [
    {
     "name": "stdout",
     "output_type": "stream",
     "text": [
      "\n",
      "Advertisement Performance:\n"
     ]
    },
    {
     "data": {
      "text/html": [
       "<div>\n",
       "<table border=\"1\" class=\"dataframe\">\n",
       "  <thead>\n",
       "    <tr style=\"text-align: right;\">\n",
       "      <th></th>\n",
       "      <th>Ad Unit Performance Summary</th>\n",
       "      <th>Impressions</th>\n",
       "      <th>Clicks</th>\n",
       "      <th>CTR</th>\n",
       "      <th>Avg. Monthly Impressions</th>\n",
       "      <th>Avg. Monthly Clicks</th>\n",
       "      <th>Avg. Monthly CTR</th>\n",
       "    </tr>\n",
       "  </thead>\n",
       "  <tbody>\n",
       "    <tr>\n",
       "      <th>0</th>\n",
       "      <td>Header</td>\n",
       "      <td>19</td>\n",
       "      <td>1</td>\n",
       "      <td>5.26%</td>\n",
       "      <td>1</td>\n",
       "      <td>0</td>\n",
       "      <td>5.26%</td>\n",
       "    </tr>\n",
       "    <tr>\n",
       "      <th>1</th>\n",
       "      <td>Mobile Banner</td>\n",
       "      <td>3,401,372</td>\n",
       "      <td>11,754</td>\n",
       "      <td>0.35%</td>\n",
       "      <td>261,644</td>\n",
       "      <td>904</td>\n",
       "      <td>0.35%</td>\n",
       "    </tr>\n",
       "    <tr>\n",
       "      <th>2</th>\n",
       "      <td>Page Sponsors</td>\n",
       "      <td>178,424</td>\n",
       "      <td>1,530</td>\n",
       "      <td>0.86%</td>\n",
       "      <td>13,725</td>\n",
       "      <td>118</td>\n",
       "      <td>0.86%</td>\n",
       "    </tr>\n",
       "    <tr>\n",
       "      <th>3</th>\n",
       "      <td>Homepage Sponsor</td>\n",
       "      <td>250,836</td>\n",
       "      <td>4,761</td>\n",
       "      <td>1.90%</td>\n",
       "      <td>19,295</td>\n",
       "      <td>366</td>\n",
       "      <td>1.90%</td>\n",
       "    </tr>\n",
       "    <tr>\n",
       "      <th>4</th>\n",
       "      <td>Featured Listing</td>\n",
       "      <td>1,969,800</td>\n",
       "      <td>19,935</td>\n",
       "      <td>1.01%</td>\n",
       "      <td>151,523</td>\n",
       "      <td>1,533</td>\n",
       "      <td>1.01%</td>\n",
       "    </tr>\n",
       "    <tr>\n",
       "      <th>5</th>\n",
       "      <td>ROS Banner</td>\n",
       "      <td>2,818,636</td>\n",
       "      <td>3,486</td>\n",
       "      <td>0.12%</td>\n",
       "      <td>216,818</td>\n",
       "      <td>268</td>\n",
       "      <td>0.12%</td>\n",
       "    </tr>\n",
       "    <tr>\n",
       "      <th>6</th>\n",
       "      <td>Text Links</td>\n",
       "      <td>12,998,442</td>\n",
       "      <td>15,861</td>\n",
       "      <td>0.12%</td>\n",
       "      <td>999,880</td>\n",
       "      <td>1,220</td>\n",
       "      <td>0.12%</td>\n",
       "    </tr>\n",
       "  </tbody>\n",
       "</table>\n",
       "</div>"
      ],
      "text/plain": [
       "  Ad Unit Performance Summary Impressions  Clicks    CTR  \\\n",
       "0                      Header          19       1  5.26%   \n",
       "1               Mobile Banner   3,401,372  11,754  0.35%   \n",
       "2               Page Sponsors     178,424   1,530  0.86%   \n",
       "3            Homepage Sponsor     250,836   4,761  1.90%   \n",
       "4            Featured Listing   1,969,800  19,935  1.01%   \n",
       "5                  ROS Banner   2,818,636   3,486  0.12%   \n",
       "6                  Text Links  12,998,442  15,861  0.12%   \n",
       "\n",
       "  Avg. Monthly Impressions Avg. Monthly Clicks Avg. Monthly CTR  \n",
       "0                        1                   0            5.26%  \n",
       "1                  261,644                 904            0.35%  \n",
       "2                   13,725                 118            0.86%  \n",
       "3                   19,295                 366            1.90%  \n",
       "4                  151,523               1,533            1.01%  \n",
       "5                  216,818                 268            0.12%  \n",
       "6                  999,880               1,220            0.12%  "
      ]
     },
     "execution_count": 137,
     "metadata": {},
     "output_type": "execute_result"
    }
   ],
   "source": [
    "print \"\\nAdvertisement Performance:\"\n",
    "ad_data"
   ]
  },
  {
   "cell_type": "markdown",
   "metadata": {},
   "source": [
    "This analysis should follow up with 2016 comparison on advertising performance. Future analysis should also keep a close eye towards which members are paying for what from the media kit and monitoring retention among members. Answering deeper questions such as click through rates of featured vs non-featured members, would make the value add of the program easier to judge. Assembling the data for that type of experiment is non-trivial and will take more than a week."
   ]
  },
  {
   "cell_type": "markdown",
   "metadata": {},
   "source": [
    "## Other DMOs\n",
    "\n",
    "MCCVB reached out to seven of our partner DMOs to get a better understanding of current practices and member structures. Our results follow:\n",
    "\n",
    " - Visit San Jose does offer paid advertisements on their website, but they are not membership based and do not require membership dues. \n",
    " - Visit San Luis Obispo does not currently offer supplemental online advertising, however anticipates it will be able to offer it in the near future.\n",
    " - Visit Santa Barabara does offer supplemental online advertising in conjunction with membership dues. \n",
    " - SF Travel offers both supplemental online advertising and membership dues, among more offerings. \n",
    " - Visit Ventura offers supplemental online advertising in conjunction with membership dues.\n",
    "\n",
    "Without more data, we will not be able to further analyze DMO patterns. However, I believe it is reasonable for the reader to note that the size of the DMO will largely indicate the amount of offerings for a member. SF Travel has many packages and opportunities for different levels of engagement depending on the member. And that is the key... the diversity, or homogeniety, of the members and the size of the destination will likely determine the type, complexity, and cost of offerings.\n",
    "\n",
    "\n",
    "## POV\n",
    "\n",
    "Members:\n",
    "    I would like for the tax dollar to go toward driving the tourist to the destination. When they arrive at this destination, I want them consuming what I have to offer. I want the opportunity to advertise, but I have to compete with other people who have consumables similar to mine. \n",
    "    It's difficult to compete with larger competitors as they often have budgets that surpass mine. However, if we aren't exploring and keeping all of our advertising options open, we may both lose out on consumption that might not have taken place if the advertising did not exist.\n",
    "\n",
    "\n",
    "MCCVB:\n",
    "    Providing the ability to advertise for our members is key, keeping our options numerous and varying we can server a greater number of our members. We understand the needs and nuances of members who have several hundred rooms and the members who have several tables at their smaller restaurant. \n",
    "    Keeping the larger members satisfied is important. Utilizing the advertising space is effective for these members, but perhaps as a public entity we could lower the cost of advertising or increase exposure by giving back the money or  purchasing additional advertising.\n",
    "    \n",
    "\n",
    "Stakeholder:\n",
    "    Our public entities are not meant to turn a profit. Any excess money or profit should be directed towards bettering our members. If reducing competition and providing more opportunities for those less competitive is bettering our members, then we should consider alternatives. Such as a lottery system or refunding the money or purchasing additional advertising\n",
    "   \n",
    "   \n",
    "   \n",
    "## Testimonials\n",
    "\n",
    "\"We saw the value in leveraging DTN dollars and SEO ranking to expose our brand to those who otherwise may never have heard of us. It has been worth every penny!\"\n",
    " \n",
    "\"The team was smart, easier to work with and made sure we were getting the most for our money\"\n",
    " \n",
    "\"When I googled Things to Do in Monterey, See Monterey kept showing up, that's when I knew we needed them as a partner.\"\n",
    "\n",
    "\n",
    "    "
   ]
  }
 ],
 "metadata": {
  "anaconda-cloud": {},
  "kernelspec": {
   "display_name": "Python [Root]",
   "language": "python",
   "name": "Python [Root]"
  },
  "language_info": {
   "codemirror_mode": {
    "name": "ipython",
    "version": 2
   },
   "file_extension": ".py",
   "mimetype": "text/x-python",
   "name": "python",
   "nbconvert_exporter": "python",
   "pygments_lexer": "ipython2",
   "version": "2.7.12"
  }
 },
 "nbformat": 4,
 "nbformat_minor": 0
}
