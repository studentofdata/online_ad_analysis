{
 "cells": [
  {
   "cell_type": "code",
   "execution_count": null,
   "metadata": {
    "collapsed": true,
    "scrolled": true
   },
   "outputs": [],
   "source": [
    "%%html\n",
    "<style>\n",
    "div.input {\n",
    "    display:none;\n",
    "}\n",
    "</style>"
   ]
  },
  {
   "cell_type": "code",
   "execution_count": 65,
   "metadata": {
    "collapsed": false,
    "scrolled": true
   },
   "outputs": [],
   "source": [
    "%matplotlib inline"
   ]
  },
  {
   "cell_type": "code",
   "execution_count": 100,
   "metadata": {
    "collapsed": false,
    "nbpresent": {
     "id": "73fe413b-33f9-44e2-9954-ed3deb118ebe"
    },
    "scrolled": true
   },
   "outputs": [],
   "source": [
    "import warnings\n",
    "import os\n",
    "import pandas as pd\n",
    "import numpy as np\n",
    "from datetime import timedelta\n",
    "from ggplot import *\n",
    "\n",
    "from plotly.graph_objs import Bar, Scatter, Figure, Layout\n",
    "\n",
    "import plotly.plotly as py\n",
    "import plotly.graph_objs as go\n",
    "\n",
    "\n",
    "\n",
    "warnings.filterwarnings('ignore')\n",
    "\n",
    "##############################################################\n",
    "# Let's load the data\n",
    "\n",
    "# All Invoicing data (2013-01-01 - 2015-01-01) DTN Destination Travel Network\n",
    "data = pd.read_csv('onsite_ad_analysis/all_advertisers_v2.csv')\n",
    "# All bookingcom data (2015-01-01 - 2016-08-31) Bookings from our site\n",
    "files = os.listdir('onsite_ad_analysis')\n",
    "booking_files = [f for f in files if 'booking' in f]\n",
    "booking_frames = []\n",
    "for f in booking_files:\n",
    "    directory = 'onsite_ad_analysis'\n",
    "    path = os.path.join(directory, f) \n",
    "    temp = pd.read_csv(path)\n",
    "    booking_frames.append(temp)\n",
    "\n",
    "booking_data = pd.concat(booking_frames)\n",
    "\n",
    "\n",
    "# Ad Performance data \n",
    "ad_data = pd.read_csv('onsite_ad_analysis/ad_performance.csv')\n",
    "\n"
   ]
  },
  {
   "cell_type": "code",
   "execution_count": 102,
   "metadata": {
    "collapsed": false
   },
   "outputs": [
    {
     "data": {
      "text/html": [
       "<div>\n",
       "<table border=\"1\" class=\"dataframe\">\n",
       "  <thead>\n",
       "    <tr style=\"text-align: right;\">\n",
       "      <th></th>\n",
       "      <th>Ad Unit Performance Summary</th>\n",
       "      <th>Impressions</th>\n",
       "      <th>Clicks</th>\n",
       "      <th>CTR</th>\n",
       "      <th>Avg. Monthly Impressions</th>\n",
       "      <th>Avg. Monthly Clicks</th>\n",
       "      <th>Avg. Monthly CTR</th>\n",
       "    </tr>\n",
       "  </thead>\n",
       "  <tbody>\n",
       "    <tr>\n",
       "      <th>0</th>\n",
       "      <td>Header</td>\n",
       "      <td>19</td>\n",
       "      <td>1</td>\n",
       "      <td>5.26%</td>\n",
       "      <td>1</td>\n",
       "      <td>0</td>\n",
       "      <td>5.26%</td>\n",
       "    </tr>\n",
       "    <tr>\n",
       "      <th>1</th>\n",
       "      <td>Mobile Banner</td>\n",
       "      <td>3,401,372</td>\n",
       "      <td>11,754</td>\n",
       "      <td>0.35%</td>\n",
       "      <td>261,644</td>\n",
       "      <td>904</td>\n",
       "      <td>0.35%</td>\n",
       "    </tr>\n",
       "    <tr>\n",
       "      <th>2</th>\n",
       "      <td>Page Sponsors</td>\n",
       "      <td>178,424</td>\n",
       "      <td>1,530</td>\n",
       "      <td>0.86%</td>\n",
       "      <td>13,725</td>\n",
       "      <td>118</td>\n",
       "      <td>0.86%</td>\n",
       "    </tr>\n",
       "    <tr>\n",
       "      <th>3</th>\n",
       "      <td>Homepage Sponsor</td>\n",
       "      <td>250,836</td>\n",
       "      <td>4,761</td>\n",
       "      <td>1.90%</td>\n",
       "      <td>19,295</td>\n",
       "      <td>366</td>\n",
       "      <td>1.90%</td>\n",
       "    </tr>\n",
       "    <tr>\n",
       "      <th>4</th>\n",
       "      <td>Featured Listing</td>\n",
       "      <td>1,969,800</td>\n",
       "      <td>19,935</td>\n",
       "      <td>1.01%</td>\n",
       "      <td>151,523</td>\n",
       "      <td>1,533</td>\n",
       "      <td>1.01%</td>\n",
       "    </tr>\n",
       "    <tr>\n",
       "      <th>5</th>\n",
       "      <td>ROS Banner</td>\n",
       "      <td>2,818,636</td>\n",
       "      <td>3,486</td>\n",
       "      <td>0.12%</td>\n",
       "      <td>216,818</td>\n",
       "      <td>268</td>\n",
       "      <td>0.12%</td>\n",
       "    </tr>\n",
       "    <tr>\n",
       "      <th>6</th>\n",
       "      <td>Text Links</td>\n",
       "      <td>12,998,442</td>\n",
       "      <td>15,861</td>\n",
       "      <td>0.12%</td>\n",
       "      <td>999,880</td>\n",
       "      <td>1,220</td>\n",
       "      <td>0.12%</td>\n",
       "    </tr>\n",
       "  </tbody>\n",
       "</table>\n",
       "</div>"
      ],
      "text/plain": [
       "  Ad Unit Performance Summary Impressions  Clicks    CTR  \\\n",
       "0                      Header          19       1  5.26%   \n",
       "1               Mobile Banner   3,401,372  11,754  0.35%   \n",
       "2               Page Sponsors     178,424   1,530  0.86%   \n",
       "3            Homepage Sponsor     250,836   4,761  1.90%   \n",
       "4            Featured Listing   1,969,800  19,935  1.01%   \n",
       "5                  ROS Banner   2,818,636   3,486  0.12%   \n",
       "6                  Text Links  12,998,442  15,861  0.12%   \n",
       "\n",
       "  Avg. Monthly Impressions Avg. Monthly Clicks Avg. Monthly CTR  \n",
       "0                        1                   0            5.26%  \n",
       "1                  261,644                 904            0.35%  \n",
       "2                   13,725                 118            0.86%  \n",
       "3                   19,295                 366            1.90%  \n",
       "4                  151,523               1,533            1.01%  \n",
       "5                  216,818                 268            0.12%  \n",
       "6                  999,880               1,220            0.12%  "
      ]
     },
     "execution_count": 102,
     "metadata": {},
     "output_type": "execute_result"
    }
   ],
   "source": [
    "ad_data"
   ]
  },
  {
   "cell_type": "code",
   "execution_count": null,
   "metadata": {
    "collapsed": true,
    "nbpresent": {
     "id": "7f166f9e-3a21-490f-af70-3e6ba7e87faa"
    },
    "scrolled": true
   },
   "outputs": [],
   "source": [
    "##############################################################\n",
    "# Let's format the DTN data\n",
    "\n",
    "data = data.rename(\n",
    "        columns={\n",
    "        \"Desc\" : \"advertiser_name\"\n",
    "    })\n",
    "\n",
    "# Format Dates\n",
    "data['Date'] = pd.to_datetime(data['Month-Year'])\n",
    "data['Date'] = data['Date']\n",
    "\n",
    "\n",
    "\n",
    "# Clean Descriptions (member names)\n",
    "data['advertiser_name'] = data['advertiser_name'].str.replace(' - Monterey','')\n",
    "\n",
    "data['advertiser_name'] = data['advertiser_name'].str.replace(' - April','')\n",
    "data['advertiser_name'] = data['advertiser_name'].str.replace(' - May','')\n",
    "data['advertiser_name'] = data['advertiser_name'].str.replace(' - June','')\n",
    "data['advertiser_name'] = data['advertiser_name'].str.replace(' - July','')\n",
    "data['advertiser_name'] = data['advertiser_name'].str.replace(' - August','')\n",
    "data['advertiser_name'] = data['advertiser_name'].str.replace(' - September','')\n",
    "data['advertiser_name'] = data['advertiser_name'].str.replace(' - October','')\n",
    "data['advertiser_name'] = data['advertiser_name'].str.replace(' - November','')\n",
    "data['advertiser_name'] = data['advertiser_name'].str.replace(' - December','')\n",
    "data['advertiser_name'] = data['advertiser_name'].str.replace(' - January','')\n",
    "data['advertiser_name'] = data['advertiser_name'].str.replace(' - February','')\n",
    "data['advertiser_name'] = data['advertiser_name'].str.replace(' - March','')\n",
    "data['advertiser_name'] = data['advertiser_name'].str.replace(' -April','')\n",
    "data['advertiser_name'] = data['advertiser_name'].str.replace(' -May','')\n",
    "data['advertiser_name'] = data['advertiser_name'].str.replace(' -June','')\n",
    "data['advertiser_name'] = data['advertiser_name'].str.replace(' -July','')\n",
    "data['advertiser_name'] = data['advertiser_name'].str.replace(' -August','')\n",
    "data['advertiser_name'] = data['advertiser_name'].str.replace(' -September','')\n",
    "data['advertiser_name'] = data['advertiser_name'].str.replace(' -October','')\n",
    "data['advertiser_name'] = data['advertiser_name'].str.replace(' -November','')\n",
    "data['advertiser_name'] = data['advertiser_name'].str.replace(' -December','')\n",
    "data['advertiser_name'] = data['advertiser_name'].str.replace(' -January','')\n",
    "data['advertiser_name'] = data['advertiser_name'].str.replace(' -February','')\n",
    "data['advertiser_name'] = data['advertiser_name'].str.replace(' -March','')\n",
    "\n",
    "# Format new column for month-year. Readability\n",
    "\n",
    "data['Month-Year'] = data['Date'].apply(lambda x: str(x.month) + \"-\" + str(x.year))\n",
    "data['Month'] = data['Date'].apply(lambda x: x.month)\n",
    "data['Year']  = data['Date'].apply(lambda x: x.year)\n",
    "data['Amount'] = data['Amount'].str.replace(' ', '')\n",
    "data['Amount'] = data['Amount'].str.replace(',', '')\n",
    "data['Amount'] = data['Amount'].apply(float)"
   ]
  },
  {
   "cell_type": "code",
   "execution_count": null,
   "metadata": {
    "collapsed": true,
    "nbpresent": {
     "id": "03c55c07-c56d-48f6-b450-5bf98c88645f"
    },
    "scrolled": true
   },
   "outputs": [],
   "source": [
    "##############################################################\n",
    "# Let's format the Booking data\n",
    "\n",
    "#Rename Columns\n",
    "booking_data = booking_data.rename(\n",
    "        columns={\n",
    "        \"book nr.\" : \"book_nr\",\n",
    "        \"booked\"  : \"booked\",\n",
    "        \"arrival\" : \"arrival\",\n",
    "        \"departure\" : \"departure\",\n",
    "        \"comission_eur\" : \"comission_eur\",\n",
    "        \"perc\" : \"fee_eur\",\n",
    "        \"total transaction value ( EUR )\" : \"total_trans_value_eur\",\n",
    "        \"slip nr.\" : \"slip_nr\",\n",
    "        \"affiliate id\" : \"affiliate_id\",\n",
    "        \"hotel name\" : \"hotel_name\",\n",
    "        \"accomodation type\" : \"accomodation_type\",\n",
    "        \"hotel city\" : \"hotel_city\",\n",
    "        \"hotel ufi\" : \"hotel_ufi\"\n",
    "    })\n",
    "\n",
    "\n",
    "#Subset Columns needed\n",
    "booking_data_v2 = booking_data[['booked',\n",
    "                                'arrival',\n",
    "                                'departure',\n",
    "                                'total_trans_value_eur',\n",
    "                                'hotel_name',\n",
    "                                'hotel_city',\n",
    "                                'accomodation_type']]\n",
    "\n",
    "\n",
    "booking_data_v2['booked'] = pd.to_datetime(booking_data_v2['booked'])\n",
    "booking_data_v2['arrival'] = pd.to_datetime(booking_data_v2['arrival'])\n",
    "booking_data_v2['departure'] = pd.to_datetime(booking_data_v2['departure'])\n",
    "\n",
    "data_v1 = data[data['Date'] < '2016-08-31']\n",
    "data_v1 = data_v1[['advertiser_name','Amount','Month-Year','Month','Year','Date']]\n",
    "\n"
   ]
  },
  {
   "cell_type": "code",
   "execution_count": 107,
   "metadata": {
    "collapsed": false,
    "scrolled": true
   },
   "outputs": [],
   "source": [
    "##############################################################\n",
    "# Let's transform the DTN data for visualization & modeling\n",
    "\n",
    "## Top Spenders\n",
    "ts = data_v1.groupby(['advertiser_name','Year'])\n",
    "ts = ts['Amount'].sum()\n",
    "ts = ts.reset_index()\n",
    "ts = ts.sort(['Year','Amount'], ascending = False)\n",
    "grouped = ts.groupby('Year')['Amount'].nlargest(3)\n",
    "ts = ts.reset_index()\n",
    "grouped_v2 = grouped.reset_index()\n",
    "index = grouped_v2['level_1']\n",
    "ts_v2 = ts[ts['index'].isin(index)]\n",
    "ts_v3 = ts_v2[['advertiser_name', 'Year', 'Amount']]\n",
    "ts_v3 = ts_v3.rename(columns={'advertiser_name': 'Member', 'Amount':'Spent'})\n",
    "ts_v3\n",
    "\n",
    "## Average Participating Member Contract Length Over Time\n",
    "ct = data_v1.groupby(['Year'])\n",
    "ct = ct['Month'].aggregate(len)\n",
    "ct = ct.reset_index()\n",
    "ct_v2 = ct.groupby(['Year'])['Month'].aggregate(np.mean)\n",
    "ct_v2 = ct_v2.reset_index()\n",
    "ct_v2['Year'] = ct_v2['Year'].apply(str)\n",
    "\n",
    "## Revenue by Year\n",
    "yr_revenue = data_v1.groupby(['Year'])['Amount'].aggregate(sum)\n",
    "yr_revenue = yr_revenue.reset_index()\n",
    "yr_revenue['Year'] = pd.to_datetime(yr_revenue['Year'], format = '%Y')\n",
    "#yr_revenue['Year'] = yr_revenue['Year'].apply(lambda x: x.year)\n",
    "yr_revenue['Amount'] = yr_revenue['Amount'].apply(int)\n",
    "\n",
    "# Revenue Over Month\n",
    "revenue = data_v1.groupby(['Month-Year'])#.aggregate(sum)\n",
    "revenue = revenue[['Amount']].aggregate(sum)\n",
    "revenue = revenue.reset_index()\n",
    "revenue['Month-Year'] = pd.to_datetime(revenue['Month-Year'])\n",
    "revenue = revenue.sort('Month-Year')\n",
    "\n",
    "# So far we haven't touched the Gross Amounts. We know need to account for the fact that the \n",
    "# CVB only gets 40% of the Gross Amount. \n",
    "revenue['MCCVB Amount'] = revenue['Amount']*.4\n",
    "\n",
    "#Cumulative Revenue\n",
    "revenue['Cumulative Revenue'] = revenue['Amount'].cumsum()\n",
    "revenue['Cumulative MCCVB Revenue'] = revenue['MCCVB Amount'].cumsum()\n",
    "revenue['Date'] = pd.to_datetime(revenue['Month-Year'])\n",
    "\n",
    "\n",
    "# Revenue by year\n",
    "\n",
    "unique_data = data_v1.drop_duplicates('advertiser_name')\n",
    "# Unique Participants over Time\n",
    "users = data_v1.groupby(['Date','advertiser_name']).aggregate(len)\n",
    "users = users.reset_index()\n",
    "# Aggregate Monthly\n",
    "users_v2 = users.groupby(['Date']).aggregate(len)\n",
    "users_v2 = users_v2.reset_index()\n",
    "users_v2 = users_v2[['Date','Amount']]\n",
    "users_v2 = users_v2.rename(columns={\"Amount\":\"Unique Members\"})\n",
    "users_v2['Date'] = pd.to_datetime(users_v2['Date'])\n",
    "users_v2['Month-Year'] = users_v2['Date'].apply(lambda x: str(x.month) + \"-\" + str(x.year))\n",
    "users_v2['Month-Year'] = pd.to_datetime(users_v2['Month-Year'])\n",
    "# Aggregate Yearly\n",
    "users_year = unique_data.groupby(['advertiser_name','Year']).aggregate(len)\n",
    "users_year = users_year.reset_index()\n",
    "users_year_v2 = users_year.groupby(['Year']).aggregate(sum)\n",
    "users_year_v2 = users_year_v2.reset_index()\n",
    "users_year_v2 = users_year_v2.rename(columns={\"Amount\":\"Unique Members\"})\n",
    "\n",
    "\n",
    "# Revenue and Participants over Time\n",
    "full_u_r = pd.merge(users_v2, revenue, on = ['Date','Month-Year'])\n",
    "full_u_r['Cost-Per-Member'] = full_u_r['Amount']/full_u_r['Unique Members']\n",
    "\n",
    "# Revenue and Participants Yearly\n",
    "full_u_r_v2 = full_u_r\n",
    "full_u_r_v2['Date'] = pd.to_datetime(full_u_r_v2['Date'])\n",
    "full_u_r_v2['Year'] = users_v2['Date'].apply(lambda x: str(x.year))\n",
    "full_u_r_v3 = full_u_r_v2.groupby(['Year']).aggregate(sum)\n",
    "full_u_r_v3 = full_u_r_v3.reset_index()\n",
    "\n",
    "\n",
    "# Retention Rates, Who stayed and who bailed\n",
    "\n",
    "\n",
    "\n",
    "# Loyalty - Avg Contract Lengths\n",
    "\n"
   ]
  },
  {
   "cell_type": "code",
   "execution_count": 122,
   "metadata": {
    "collapsed": false
   },
   "outputs": [
    {
     "data": {
      "image/png": "[encoded data removed]",
      "text/plain": [
       "<matplotlib.figure.Figure at 0x13fd8f60>"
      ]
     },
     "metadata": {},
     "output_type": "display_data"
    },
    {
     "data": {
      "text/plain": [
       "<ggplot: (20951030)>"
      ]
     },
     "execution_count": 122,
     "metadata": {},
     "output_type": "execute_result"
    }
   ],
   "source": [
    "##############################################################\n",
    "# Let's visualize\n",
    "\n",
    "#INSERT YEARLY BAR HERE #\n",
    "\n",
    "## Yearly Plot\n",
    "yr_plot_data = [\n",
    "                go.Bar(\n",
    "                x = yr_revenue['Year'],\n",
    "                y = yr_revenue['Amount'])\n",
    "]\n",
    "#py.iplot(yr_cm_data, filename='nm-contracts-chart')\n",
    "\n",
    "\n",
    "## Contract Months\n",
    "yr_cm_data = [\n",
    "                go.Scatter(\n",
    "                x = ct_v2['Year'],\n",
    "                y = ct_v2['Month'])\n",
    "]\n",
    "\n",
    "#py.iplot(yr_cm_data, filename='nm-contracts-chart')\n",
    "\n",
    "\n",
    "rev_yr = ggplot(aes(x=\"Year\",weight=\"Amount\"), data = yr_revenue)\n",
    "rev_yr = rev_yr + geom_bar() + scale_x_discrete(labels = ['2013','2014','2015','2016'])\n",
    "rev_yr = rev_yr + scale_y_continuous(labels='comma')\n",
    "rev_yr\n",
    "\n",
    "#py.iplot(yr_plot_data, filename='bar-chart')\n",
    "\n"
   ]
  },
  {
   "cell_type": "code",
   "execution_count": 133,
   "metadata": {
    "collapsed": false
   },
   "outputs": [
    {
     "data": {
      "text/plain": [
       "104692L"
      ]
     },
     "execution_count": 133,
     "metadata": {},
     "output_type": "execute_result"
    }
   ],
   "source": [
    "yr_revenue['Amount'].sum()"
   ]
  },
  {
   "cell_type": "code",
   "execution_count": 72,
   "metadata": {
    "collapsed": false
   },
   "outputs": [
    {
     "data": {
      "image/png": "[encoded data removed]",
      "text/plain": [
       "<matplotlib.figure.Figure at 0x10b5b898>"
      ]
     },
     "metadata": {},
     "output_type": "display_data"
    },
    {
     "data": {
      "text/plain": [
       "<ggplot: (17521636)>"
      ]
     },
     "execution_count": 72,
     "metadata": {},
     "output_type": "execute_result"
    }
   ],
   "source": [
    "# Cost Per Member\n",
    "rev_cpm = ggplot(aes(x='Month-Year', y = 'Cost-Per-Member'), data = full_u_r)\n",
    "rev_cpm = rev_cpm + geom_line() + ggtitle(\"Cost Per Member\")\n",
    "rev_cpm"
   ]
  },
  {
   "cell_type": "code",
   "execution_count": 79,
   "metadata": {
    "collapsed": false
   },
   "outputs": [
    {
     "data": {
      "text/html": [
       "<div>\n",
       "<table border=\"1\" class=\"dataframe\">\n",
       "  <thead>\n",
       "    <tr style=\"text-align: right;\">\n",
       "      <th></th>\n",
       "      <th>Member</th>\n",
       "      <th>Year</th>\n",
       "      <th>Spent</th>\n",
       "    </tr>\n",
       "  </thead>\n",
       "  <tbody>\n",
       "    <tr>\n",
       "      <th>0</th>\n",
       "      <td>Portola Hotel &amp; Spa</td>\n",
       "      <td>2016</td>\n",
       "      <td>5600.0</td>\n",
       "    </tr>\n",
       "    <tr>\n",
       "      <th>1</th>\n",
       "      <td>Monterey Zoo (Previously Wild Things)</td>\n",
       "      <td>2016</td>\n",
       "      <td>3300.0</td>\n",
       "    </tr>\n",
       "    <tr>\n",
       "      <th>2</th>\n",
       "      <td>Monterey Peninsula Inn</td>\n",
       "      <td>2016</td>\n",
       "      <td>2700.0</td>\n",
       "    </tr>\n",
       "    <tr>\n",
       "      <th>32</th>\n",
       "      <td>Carmel Mission Inn</td>\n",
       "      <td>2015</td>\n",
       "      <td>6600.0</td>\n",
       "    </tr>\n",
       "    <tr>\n",
       "      <th>33</th>\n",
       "      <td>Monterey Zoo (Previously Wild Things)</td>\n",
       "      <td>2015</td>\n",
       "      <td>3300.0</td>\n",
       "    </tr>\n",
       "    <tr>\n",
       "      <th>34</th>\n",
       "      <td>Hilton Garden Inn</td>\n",
       "      <td>2015</td>\n",
       "      <td>2250.0</td>\n",
       "    </tr>\n",
       "    <tr>\n",
       "      <th>58</th>\n",
       "      <td>Downtown Dining</td>\n",
       "      <td>2014</td>\n",
       "      <td>2840.0</td>\n",
       "    </tr>\n",
       "    <tr>\n",
       "      <th>59</th>\n",
       "      <td>Flaherty's Oyster Bar &amp; Seafood Grill</td>\n",
       "      <td>2014</td>\n",
       "      <td>2750.0</td>\n",
       "    </tr>\n",
       "    <tr>\n",
       "      <th>60</th>\n",
       "      <td>Embassy Suites Monterey Bay-Seaside</td>\n",
       "      <td>2014</td>\n",
       "      <td>2280.0</td>\n",
       "    </tr>\n",
       "    <tr>\n",
       "      <th>75</th>\n",
       "      <td>Taste Morgan</td>\n",
       "      <td>2013</td>\n",
       "      <td>3200.0</td>\n",
       "    </tr>\n",
       "    <tr>\n",
       "      <th>76</th>\n",
       "      <td>Embassy Suites Monterey Bay-Seaside</td>\n",
       "      <td>2013</td>\n",
       "      <td>2280.0</td>\n",
       "    </tr>\n",
       "    <tr>\n",
       "      <th>77</th>\n",
       "      <td>Haute Enchilada Cafe and Galleries</td>\n",
       "      <td>2013</td>\n",
       "      <td>1755.0</td>\n",
       "    </tr>\n",
       "  </tbody>\n",
       "</table>\n",
       "</div>"
      ],
      "text/plain": [
       "                                   Member  Year   Spent\n",
       "0                     Portola Hotel & Spa  2016  5600.0\n",
       "1   Monterey Zoo (Previously Wild Things)  2016  3300.0\n",
       "2                  Monterey Peninsula Inn  2016  2700.0\n",
       "32                     Carmel Mission Inn  2015  6600.0\n",
       "33  Monterey Zoo (Previously Wild Things)  2015  3300.0\n",
       "34                      Hilton Garden Inn  2015  2250.0\n",
       "58                        Downtown Dining  2014  2840.0\n",
       "59  Flaherty's Oyster Bar & Seafood Grill  2014  2750.0\n",
       "60    Embassy Suites Monterey Bay-Seaside  2014  2280.0\n",
       "75                           Taste Morgan  2013  3200.0\n",
       "76    Embassy Suites Monterey Bay-Seaside  2013  2280.0\n",
       "77     Haute Enchilada Cafe and Galleries  2013  1755.0"
      ]
     },
     "execution_count": 79,
     "metadata": {},
     "output_type": "execute_result"
    }
   ],
   "source": [
    "# Table of Top 3 Spenders Per Year\n",
    "ts_v3"
   ]
  },
  {
   "cell_type": "code",
   "execution_count": 132,
   "metadata": {
    "collapsed": false
   },
   "outputs": [
    {
     "data": {
      "text/html": [
       "<div>\n",
       "<table border=\"1\" class=\"dataframe\">\n",
       "  <thead>\n",
       "    <tr style=\"text-align: right;\">\n",
       "      <th></th>\n",
       "      <th>Year</th>\n",
       "      <th>Month</th>\n",
       "    </tr>\n",
       "  </thead>\n",
       "  <tbody>\n",
       "    <tr>\n",
       "      <th>0</th>\n",
       "      <td>2013</td>\n",
       "      <td>23</td>\n",
       "    </tr>\n",
       "    <tr>\n",
       "      <th>1</th>\n",
       "      <td>2014</td>\n",
       "      <td>112</td>\n",
       "    </tr>\n",
       "    <tr>\n",
       "      <th>2</th>\n",
       "      <td>2015</td>\n",
       "      <td>157</td>\n",
       "    </tr>\n",
       "    <tr>\n",
       "      <th>3</th>\n",
       "      <td>2016</td>\n",
       "      <td>153</td>\n",
       "    </tr>\n",
       "  </tbody>\n",
       "</table>\n",
       "</div>"
      ],
      "text/plain": [
       "   Year  Month\n",
       "0  2013     23\n",
       "1  2014    112\n",
       "2  2015    157\n",
       "3  2016    153"
      ]
     },
     "execution_count": 132,
     "metadata": {},
     "output_type": "execute_result"
    }
   ],
   "source": [
    "# Cumulative Revenue from Operations\n",
    "#rev_cumsum = ggplot(aes(x='Month-Year', y = 'Cumulative Revenue'), data = revenue)\n",
    "#rev_cumsum = rev_cumsum + geom_line(stat = 'identity') + ggtitle(\"Cumulative Revenue\")\n",
    "#ct_v2.dtypes\n",
    "\n",
    "\n",
    "\n",
    "# Unique Members\n",
    "rev_um = ggplot(aes(x='Month-Year', y = 'Unique Members'), data = full_u_r)\n",
    "rev_um = rev_um + geom_line() + ggtitle(\"Participation\")\n",
    "rev_um\n",
    "\n",
    "\n",
    "# Number of contract months per year\n",
    "#ct_v2_plot = ct_v2['Month'].plot(kind='bar', title = \"Number of Contract Months Per Year\")\n",
    "cm_py = ggplot(aes(x = 'Year', weight='Month'), data = ct_v2)\n",
    "cm_py = cm_py + geom_bar()\n",
    "cm_py\n",
    "ct_v2\n",
    "\n"
   ]
  },
  {
   "cell_type": "markdown",
   "metadata": {},
   "source": [
    "The steady increase in participation is an indication from the market for the value of the exposure and demand for those impressions."
   ]
  },
  {
   "cell_type": "code",
   "execution_count": 125,
   "metadata": {
    "collapsed": false,
    "nbpresent": {
     "id": "3cc350db-528a-45a4-9ef4-259ac5351154"
    },
    "scrolled": false
   },
   "outputs": [
    {
     "data": {
      "text/plain": [
       "41876.8"
      ]
     },
     "execution_count": 125,
     "metadata": {},
     "output_type": "execute_result"
    }
   ],
   "source": [
    "data_v1['Amount'].sum()*.4"
   ]
  },
  {
   "cell_type": "code",
   "execution_count": null,
   "metadata": {
    "collapsed": true
   },
   "outputs": [],
   "source": [
    "Onsite Advertising Analysis\n",
    "\n",
    "\n",
    "Introduction\n",
    "    -Briefly what we offer\n",
    "    -What is being considered\n",
    "\n",
    "Context\n",
    "    -How much?\n",
    "        -3 year spend breakout\n",
    "        -cumulative sum? bar? timeseries?\n",
    "    -Who?\n",
    "        -Uniques\n",
    "        -Top Spenders\n",
    "    -Loyalty\n",
    "        -Retention\n",
    "\n",
    "Other DMOs\n",
    "\n",
    "\n",
    "\n",
    "Pros & Cons  |  Best Practices   |   POV\n",
    "\n",
    "\n",
    "\n",
    "Final Thoughts"
   ]
  },
  {
   "cell_type": "markdown",
   "metadata": {},
   "source": [
    "\n",
    "\n",
    "\n",
    "\n",
    "\n",
    "\n"
   ]
  }
 ],
 "metadata": {
  "anaconda-cloud": {},
  "kernelspec": {
   "display_name": "Python [Root]",
   "language": "python",
   "name": "Python [Root]"
  },
  "language_info": {
   "codemirror_mode": {
    "name": "ipython",
    "version": 2
   },
   "file_extension": ".py",
   "mimetype": "text/x-python",
   "name": "python",
   "nbconvert_exporter": "python",
   "pygments_lexer": "ipython2",
   "version": "2.7.12"
  },
  "nbpresent": {
   "slides": {
    "095c9216-9724-44ad-b5e7-5361e77394d6": {
     "id": "095c9216-9724-44ad-b5e7-5361e77394d6",
     "prev": "36cef835-3948-4980-b225-b66b25edec4e",
     "regions": {
      "6a09f78f-9107-4ccd-9bbb-178c9328338b": {
       "attrs": {
        "height": 0.4,
        "width": 0.4,
        "x": 0.1,
        "y": 0.1
       },
       "content": {
        "cell": "aedc4b83-ee68-46a5-a1e2-52fdc8cf7bd4",
        "part": "outputs"
       },
       "id": "6a09f78f-9107-4ccd-9bbb-178c9328338b"
      },
      "ac36c4d3-67cd-44b3-8543-b126beefe46d": {
       "attrs": {
        "height": 0.4,
        "width": 0.4,
        "x": 0.1,
        "y": 0.5
       },
       "id": "ac36c4d3-67cd-44b3-8543-b126beefe46d"
      },
      "c66bfaa8-a6d7-4d68-b0a0-b1c54d4ba16e": {
       "attrs": {
        "height": 0.4,
        "width": 0.4,
        "x": 0.5,
        "y": 0.1
       },
       "content": {
        "cell": "3cc350db-528a-45a4-9ef4-259ac5351154",
        "part": "outputs"
       },
       "id": "c66bfaa8-a6d7-4d68-b0a0-b1c54d4ba16e"
      },
      "d376f228-66fc-4160-b59b-65f84d0bcb94": {
       "attrs": {
        "height": 0.4,
        "width": 0.4,
        "x": 0.5,
        "y": 0.5
       },
       "id": "d376f228-66fc-4160-b59b-65f84d0bcb94"
      }
     }
    },
    "36cef835-3948-4980-b225-b66b25edec4e": {
     "id": "36cef835-3948-4980-b225-b66b25edec4e",
     "layout": "manual",
     "prev": null,
     "regions": {
      "67dc6b1f-8aef-42af-964e-06bfa6363617": {
       "attrs": {
        "height": 1,
        "treemap:weight": 1,
        "width": 0.5,
        "x": 0.5,
        "y": 0
       },
       "id": "67dc6b1f-8aef-42af-964e-06bfa6363617"
      }
     }
    }
   },
   "themes": {
    "default": "160b92bb-4aeb-4c69-b88e-77bd252db1b4",
    "theme": {}
   }
  }
 },
 "nbformat": 4,
 "nbformat_minor": 0
}
